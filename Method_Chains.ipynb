{
 "cells": [
  {
   "cell_type": "code",
   "execution_count": 3,
   "id": "169706b7-ab16-4daf-930c-b360e4184058",
   "metadata": {},
   "outputs": [],
   "source": [
    "import json\n",
    "import pathlib"
   ]
  },
  {
   "cell_type": "code",
   "execution_count": 4,
   "id": "4b1ed26f-e5c8-40b1-9c66-2956fa4c5778",
   "metadata": {},
   "outputs": [],
   "source": [
    "poke_dict = json.loads(pathlib.Path(\"pokemon.json\").read_text())"
   ]
  },
  {
   "cell_type": "code",
   "execution_count": 13,
   "id": "7c6e8e21-f083-4611-80f0-46ac767a1e68",
   "metadata": {},
   "outputs": [
    {
     "name": "stdout",
     "output_type": "stream",
     "text": [
      "Name: Bulbasaur,Total: 318, Type: ['Grass', 'Poison'], HP: 45, Attack: 49\n",
      "Name: Ivysaur,Total: 405, Type: ['Grass', 'Poison'], HP: 60, Attack: 62\n",
      "Name: Venusaur,Total: 525, Type: ['Grass', 'Poison'], HP: 80, Attack: 82\n",
      "Name: VenusaurMega Venusaur,Total: 625, Type: ['Grass', 'Poison'], HP: 80, Attack: 100\n",
      "Name: Charmander,Total: 309, Type: ['Fire'], HP: 39, Attack: 52\n"
     ]
    }
   ],
   "source": [
    "# Printing stats of first 5 pokemon from json file\n",
    "for pokemon in poke_dict[:5]:\n",
    "    print(f\"Name: {pokemon['name']},Total: {pokemon['total']}, Type: {pokemon['type']}, HP: {pokemon['hp']}, Attack: {pokemon['attack']}\")"
   ]
  },
  {
   "cell_type": "code",
   "execution_count": null,
   "id": "8ad051bd-2cfe-4a9d-bd90-2195a6ba6534",
   "metadata": {},
   "outputs": [],
   "source": []
  },
  {
   "cell_type": "code",
   "execution_count": 30,
   "id": "a1ae5675-6b04-4c05-b07b-be95543bd2d4",
   "metadata": {},
   "outputs": [],
   "source": [
    "# method chains: keep\n",
    "# Using keep method to keep only a subset of dictionaries for the condition where hp \n",
    "# of pokemon is > 120 and attack of pokemon is > 100"
   ]
  },
  {
   "cell_type": "code",
   "execution_count": 38,
   "id": "db04b364-a12d-4a56-8979-e58735c94644",
   "metadata": {},
   "outputs": [],
   "source": [
    "class Pokedex:\n",
    "    def __init__(self, pokemons):\n",
    "        self.pokemons = pokemons\n",
    "\n",
    "    def keep(self, func):\n",
    "        return [pokemon for pokemon in self.pokemons if func(pokemon)]"
   ]
  },
  {
   "cell_type": "code",
   "execution_count": 39,
   "id": "4e701bc6-b5a4-44fc-9709-7b26d07e451f",
   "metadata": {},
   "outputs": [
    {
     "name": "stdout",
     "output_type": "stream",
     "text": [
      "[{'name': 'Snorlax', 'type': ['Normal'], 'total': 540, 'hp': 160, 'attack': 110}, {'name': 'Slaking', 'type': ['Normal'], 'total': 670, 'hp': 150, 'attack': 160}, {'name': 'Hariyama', 'type': ['Fighting'], 'total': 474, 'hp': 144, 'attack': 120}, {'name': 'GiratinaOrigin Forme', 'type': ['Ghost', 'Dragon'], 'total': 680, 'hp': 150, 'attack': 120}, {'name': 'Kyurem', 'type': ['Dragon', 'Ice'], 'total': 660, 'hp': 125, 'attack': 130}, {'name': 'KyuremBlack Kyurem', 'type': ['Dragon', 'Ice'], 'total': 700, 'hp': 125, 'attack': 170}, {'name': 'KyuremWhite Kyurem', 'type': ['Dragon', 'Ice'], 'total': 700, 'hp': 125, 'attack': 120}, {'name': 'Xerneas', 'type': ['Fairy'], 'total': 680, 'hp': 126, 'attack': 131}, {'name': 'Yveltal', 'type': ['Dark', 'Flying'], 'total': 680, 'hp': 126, 'attack': 131}]\n"
     ]
    }
   ],
   "source": [
    "# Creating an instance of Pokedex with the given Pokémon list\n",
    "pokedex = Pokedex(poke_dict)\n",
    "\n",
    "# Filtering Pokémon with HP greater than 120 and attack grater than 100 using the keep method\n",
    "strong_pokemon = pokedex.keep(lambda pokemon: pokemon['hp'] > 120 and pokemon['attack'] > 100)\n",
    "\n",
    "print(strong_pokemon)"
   ]
  },
  {
   "cell_type": "code",
   "execution_count": null,
   "id": "1e5baccb-1c9b-479b-8e3d-59c73c112857",
   "metadata": {},
   "outputs": [],
   "source": []
  },
  {
   "cell_type": "code",
   "execution_count": 31,
   "id": "941427c7-0d6b-4e83-adf4-e413871d20ed",
   "metadata": {},
   "outputs": [],
   "source": [
    "# method chains: chains\n",
    "# Chaining commands together in Python."
   ]
  },
  {
   "cell_type": "code",
   "execution_count": 40,
   "id": "d9f4deb7-7110-4f19-be1f-79b4bec3c928",
   "metadata": {},
   "outputs": [],
   "source": [
    "class Pokedex:\n",
    "    def __init__(self, pokemons):\n",
    "        self.pokemons = pokemons\n",
    "\n",
    "    def keep(self, func):\n",
    "        return Pokedex([pokemon for pokemon in self.pokemons if func(pokemon)])"
   ]
  },
  {
   "cell_type": "code",
   "execution_count": 41,
   "id": "12882094-638d-47a4-a77b-c70f939f53cb",
   "metadata": {},
   "outputs": [
    {
     "data": {
      "text/plain": [
       "[{'name': 'GiratinaOrigin Forme',\n",
       "  'type': ['Ghost', 'Dragon'],\n",
       "  'total': 680,\n",
       "  'hp': 150,\n",
       "  'attack': 120},\n",
       " {'name': 'Kyurem',\n",
       "  'type': ['Dragon', 'Ice'],\n",
       "  'total': 660,\n",
       "  'hp': 125,\n",
       "  'attack': 130},\n",
       " {'name': 'KyuremBlack Kyurem',\n",
       "  'type': ['Dragon', 'Ice'],\n",
       "  'total': 700,\n",
       "  'hp': 125,\n",
       "  'attack': 170},\n",
       " {'name': 'KyuremWhite Kyurem',\n",
       "  'type': ['Dragon', 'Ice'],\n",
       "  'total': 700,\n",
       "  'hp': 125,\n",
       "  'attack': 120}]"
      ]
     },
     "execution_count": 41,
     "metadata": {},
     "output_type": "execute_result"
    }
   ],
   "source": [
    "(Pokedex(poke_dict)\n",
    ".keep(lambda pokemon: pokemon['hp'] > 120 and pokemon['attack'] > 100)\n",
    ".keep(lambda pokemon: 'Dragon' in pokemon['type'])\n",
    ".pokemons)"
   ]
  },
  {
   "cell_type": "code",
   "execution_count": null,
   "id": "1c0603d9-5050-45db-be3d-95387f1c0b4a",
   "metadata": {},
   "outputs": [],
   "source": []
  },
  {
   "cell_type": "code",
   "execution_count": 37,
   "id": "e3affaa5-0465-4154-9220-528401aee95c",
   "metadata": {},
   "outputs": [],
   "source": [
    "# method chains: args\n",
    "# Allowing for multiple lambda functions with *args."
   ]
  },
  {
   "cell_type": "code",
   "execution_count": 51,
   "id": "73394b80-4db1-4eba-86c1-d8142dec3d95",
   "metadata": {},
   "outputs": [],
   "source": [
    "class Pokedex:\n",
    "    def __init__(self, pokemons):\n",
    "        self.pokemons = pokemons\n",
    "\n",
    "    def keep(self, *funcs):\n",
    "        pokemon_data = self.pokemons\n",
    "        for func in funcs:\n",
    "            pokemon_data = [pokemon for pokemon in pokemon_data if func(pokemon)]\n",
    "        return Pokedex(pokemon_data)"
   ]
  },
  {
   "cell_type": "code",
   "execution_count": 56,
   "id": "56a844a7-ff2a-4d26-a39e-f2186e209867",
   "metadata": {},
   "outputs": [
    {
     "data": {
      "text/plain": [
       "[{'name': 'GiratinaOrigin Forme',\n",
       "  'type': ['Ghost', 'Dragon'],\n",
       "  'total': 680,\n",
       "  'hp': 150,\n",
       "  'attack': 120},\n",
       " {'name': 'Kyurem',\n",
       "  'type': ['Dragon', 'Ice'],\n",
       "  'total': 660,\n",
       "  'hp': 125,\n",
       "  'attack': 130},\n",
       " {'name': 'KyuremBlack Kyurem',\n",
       "  'type': ['Dragon', 'Ice'],\n",
       "  'total': 700,\n",
       "  'hp': 125,\n",
       "  'attack': 170},\n",
       " {'name': 'KyuremWhite Kyurem',\n",
       "  'type': ['Dragon', 'Ice'],\n",
       "  'total': 700,\n",
       "  'hp': 125,\n",
       "  'attack': 120}]"
      ]
     },
     "execution_count": 56,
     "metadata": {},
     "output_type": "execute_result"
    }
   ],
   "source": [
    "(Pokedex(poke_dict)\n",
    ".keep(lambda pokemon: pokemon['hp'] > 120 and pokemon['attack'] > 100,\n",
    "      lambda pokemon: 'Dragon' in pokemon['type'])\n",
    ".pokemons)"
   ]
  },
  {
   "cell_type": "code",
   "execution_count": 53,
   "id": "7e825ba2-185e-412d-aefb-92c9efa9cd4d",
   "metadata": {},
   "outputs": [],
   "source": []
  },
  {
   "cell_type": "code",
   "execution_count": null,
   "id": "7f7c633a-d79d-4919-9e7c-58a58a464d3b",
   "metadata": {},
   "outputs": [],
   "source": [
    "# method chains: head\n",
    "#Filtering the top/bottom rows with method chains."
   ]
  },
  {
   "cell_type": "code",
   "execution_count": 57,
   "id": "91600ef6-0ff5-4b44-9121-f26f38523d25",
   "metadata": {},
   "outputs": [],
   "source": [
    "class Pokedex:\n",
    "    def __init__(self, pokemons):\n",
    "        self.pokemons = pokemons\n",
    "\n",
    "    def keep(self, *funcs):\n",
    "        pokemon_data = self.pokemons\n",
    "        for func in funcs:\n",
    "            pokemon_data = [pokemon for pokemon in pokemon_data if func(pokemon)]\n",
    "        return Pokedex(pokemon_data)\n",
    "\n",
    "    def head(self,n):\n",
    "        return Pokedex([self.pokemons[i] for i in range(n)])\n",
    "\n",
    "    def tail(self, n):\n",
    "        return Pokedex([self.pokemons[-i] for i in range(1, n+1)])"
   ]
  },
  {
   "cell_type": "code",
   "execution_count": 58,
   "id": "10b5802f-8c14-45fc-831f-45eb720a2e2c",
   "metadata": {},
   "outputs": [
    {
     "data": {
      "text/plain": [
       "[{'name': 'GiratinaOrigin Forme',\n",
       "  'type': ['Ghost', 'Dragon'],\n",
       "  'total': 680,\n",
       "  'hp': 150,\n",
       "  'attack': 120},\n",
       " {'name': 'Kyurem',\n",
       "  'type': ['Dragon', 'Ice'],\n",
       "  'total': 660,\n",
       "  'hp': 125,\n",
       "  'attack': 130}]"
      ]
     },
     "execution_count": 58,
     "metadata": {},
     "output_type": "execute_result"
    }
   ],
   "source": [
    "(Pokedex(poke_dict)\n",
    ".keep(lambda pokemon: pokemon['hp'] > 120 and pokemon['attack'] > 100,\n",
    "      lambda pokemon: 'Dragon' in pokemon['type'])\n",
    " .head(2)\n",
    ".pokemons)"
   ]
  },
  {
   "cell_type": "code",
   "execution_count": 59,
   "id": "6534130a-01cb-442b-aa70-2c81f5b3b92b",
   "metadata": {},
   "outputs": [
    {
     "data": {
      "text/plain": [
       "[{'name': 'KyuremWhite Kyurem',\n",
       "  'type': ['Dragon', 'Ice'],\n",
       "  'total': 700,\n",
       "  'hp': 125,\n",
       "  'attack': 120},\n",
       " {'name': 'KyuremBlack Kyurem',\n",
       "  'type': ['Dragon', 'Ice'],\n",
       "  'total': 700,\n",
       "  'hp': 125,\n",
       "  'attack': 170},\n",
       " {'name': 'Kyurem',\n",
       "  'type': ['Dragon', 'Ice'],\n",
       "  'total': 660,\n",
       "  'hp': 125,\n",
       "  'attack': 130}]"
      ]
     },
     "execution_count": 59,
     "metadata": {},
     "output_type": "execute_result"
    }
   ],
   "source": [
    "(Pokedex(poke_dict)\n",
    ".keep(lambda pokemon: pokemon['hp'] > 120 and pokemon['attack'] > 100,\n",
    "      lambda pokemon: 'Dragon' in pokemon['type'])\n",
    " .tail(3)\n",
    ".pokemons)"
   ]
  },
  {
   "cell_type": "code",
   "execution_count": null,
   "id": "f30aa5e2-4198-4dcb-a862-6adfd2997e69",
   "metadata": {},
   "outputs": [],
   "source": []
  },
  {
   "cell_type": "code",
   "execution_count": 60,
   "id": "9fd37dcf-5a44-47cc-85b2-71581fee0de2",
   "metadata": {},
   "outputs": [],
   "source": [
    "# method chains: select\n",
    "# Subset the keys with method chains."
   ]
  },
  {
   "cell_type": "code",
   "execution_count": 61,
   "id": "bb3f49bb-fac0-47d8-84b0-ada0d4f80d3f",
   "metadata": {},
   "outputs": [],
   "source": [
    "class Pokedex:\n",
    "    def __init__(self, pokemons):\n",
    "        self.pokemons = pokemons\n",
    "\n",
    "    def keep(self, *funcs):\n",
    "        pokemon_data = self.pokemons\n",
    "        for func in funcs:\n",
    "            pokemon_data = [pokemon for pokemon in pokemon_data if func(pokemon)]\n",
    "        return Pokedex(pokemon_data)\n",
    "\n",
    "    def head(self,n):\n",
    "        return Pokedex([self.pokemons[i] for i in range(n)])\n",
    "\n",
    "    def tail(self, n):\n",
    "        return Pokedex([self.pokemons[-i] for i in range(1, n+1)])\n",
    "\n",
    "    def select(self, *keys):\n",
    "        return Pokedex([{key: pokemon[key] for key in keys} for pokemon in self.pokemons])"
   ]
  },
  {
   "cell_type": "code",
   "execution_count": 62,
   "id": "9eea423c-c548-414d-99ee-ec68025d73b1",
   "metadata": {},
   "outputs": [
    {
     "data": {
      "text/plain": [
       "[{'type': ['Dragon', 'Ice'], 'attack': 120},\n",
       " {'type': ['Dragon', 'Ice'], 'attack': 170},\n",
       " {'type': ['Dragon', 'Ice'], 'attack': 130}]"
      ]
     },
     "execution_count": 62,
     "metadata": {},
     "output_type": "execute_result"
    }
   ],
   "source": [
    "(Pokedex(poke_dict)\n",
    ".keep(lambda pokemon: pokemon['hp'] > 120 and pokemon['attack'] > 100,\n",
    "      lambda pokemon: 'Dragon' in pokemon['type'])\n",
    " .select('type','attack')\n",
    " .tail(3)\n",
    ".pokemons)"
   ]
  },
  {
   "cell_type": "code",
   "execution_count": null,
   "id": "630fb42f-12fe-4c71-ac77-9692a14f2a72",
   "metadata": {},
   "outputs": [],
   "source": []
  },
  {
   "cell_type": "code",
   "execution_count": 63,
   "id": "3219c00b-6834-429d-90ee-5b899e7e2494",
   "metadata": {},
   "outputs": [],
   "source": [
    "#method chains: mutate\n",
    "#Adding methods to add keys."
   ]
  },
  {
   "cell_type": "code",
   "execution_count": 64,
   "id": "2331943f-d1f4-4299-ae3b-8c06bbfb81ed",
   "metadata": {},
   "outputs": [],
   "source": [
    "class Pokedex:\n",
    "    def __init__(self, pokemons):\n",
    "        self.pokemons = pokemons\n",
    "\n",
    "    def keep(self, *funcs):\n",
    "        pokemon_data = self.pokemons\n",
    "        for func in funcs:\n",
    "            pokemon_data = [pokemon for pokemon in pokemon_data if func(pokemon)]\n",
    "        return Pokedex(pokemon_data)\n",
    "\n",
    "    def head(self,n):\n",
    "        return Pokedex([self.pokemons[i] for i in range(n)])\n",
    "\n",
    "    def tail(self, n):\n",
    "        return Pokedex([self.pokemons[-i] for i in range(1, n+1)])\n",
    "\n",
    "    def select(self, *keys):\n",
    "        return Pokedex([{key: pokemon[key] for key in keys} for pokemon in self.pokemons])\n",
    "\n",
    "    def mutate(self, **kwargs):\n",
    "      pokemon_data = self.pokemons\n",
    "      for key, func in kwargs.items():\n",
    "          for i in range(len(pokemon_data)):\n",
    "              pokemon_data[i][key] = func(pokemon_data[i])\n",
    "      return Pokedex(pokemon_data)"
   ]
  },
  {
   "cell_type": "code",
   "execution_count": 66,
   "id": "54c64e99-f3e4-400d-a634-551ac47b7eb8",
   "metadata": {},
   "outputs": [
    {
     "data": {
      "text/plain": [
       "[{'type': ['Dragon', 'Ice'], 'attack': 120, 'at5': 600, 'at25': 3000},\n",
       " {'type': ['Dragon', 'Ice'], 'attack': 170, 'at5': 850, 'at25': 4250},\n",
       " {'type': ['Dragon', 'Ice'], 'attack': 130, 'at5': 650, 'at25': 3250}]"
      ]
     },
     "execution_count": 66,
     "metadata": {},
     "output_type": "execute_result"
    }
   ],
   "source": [
    "(Pokedex(poke_dict)\n",
    ".keep(lambda pokemon: pokemon['hp'] > 120 and pokemon['attack'] > 100,\n",
    "      lambda pokemon: 'Dragon' in pokemon['type'])\n",
    " .select('type','attack')\n",
    " .mutate(at5 = lambda pokemon: pokemon['attack'] * 5,\n",
    "          at25 = lambda pokemon: pokemon['attack'] * 25)\n",
    " .tail(3)\n",
    ".pokemons)"
   ]
  },
  {
   "cell_type": "code",
   "execution_count": null,
   "id": "4f8ad44a-8658-4497-80f5-bf4f9e51f339",
   "metadata": {},
   "outputs": [],
   "source": []
  },
  {
   "cell_type": "code",
   "execution_count": 67,
   "id": "0b8802d5-0f6e-46d6-ae5f-2b8640409bc5",
   "metadata": {},
   "outputs": [],
   "source": [
    "#method chains: sort\n",
    "#Adding a method to sort the dataset."
   ]
  },
  {
   "cell_type": "code",
   "execution_count": 68,
   "id": "acc6dd15-25f8-48d1-86d2-f881d346f320",
   "metadata": {},
   "outputs": [],
   "source": [
    "class Pokedex:\n",
    "    def __init__(self, pokemons):\n",
    "        self.pokemons = pokemons\n",
    "\n",
    "    def keep(self, *funcs):\n",
    "        pokemon_data = self.pokemons\n",
    "        for func in funcs:\n",
    "            pokemon_data = [pokemon for pokemon in pokemon_data if func(pokemon)]\n",
    "        return Pokedex(pokemon_data)\n",
    "\n",
    "    def head(self,n):\n",
    "        return Pokedex([self.pokemons[i] for i in range(n)])\n",
    "\n",
    "    def tail(self, n):\n",
    "        return Pokedex([self.pokemons[-i] for i in range(1, n+1)])\n",
    "\n",
    "    def select(self, *keys):\n",
    "        return Pokedex([{key: pokemon[key] for key in keys} for pokemon in self.pokemons])\n",
    "\n",
    "    def mutate(self, **kwargs):\n",
    "      pokemon_data = self.pokemons\n",
    "      for key, func in kwargs.items():\n",
    "          for i in range(len(pokemon_data)):\n",
    "              pokemon_data[i][key] = func(pokemon_data[i])\n",
    "      return Pokedex(pokemon_data)\n",
    "\n",
    "    def sort(self, key, reverse=False):\n",
    "        return Pokedex(sorted(self.pokemons, key=key, reverse=reverse))"
   ]
  },
  {
   "cell_type": "code",
   "execution_count": 70,
   "id": "a2c071a0-18b3-4eef-b4ed-5344d9de04a5",
   "metadata": {},
   "outputs": [
    {
     "data": {
      "text/plain": [
       "[{'name': 'GiratinaOrigin Forme', 'type': ['Ghost', 'Dragon'], 'attack': 120},\n",
       " {'name': 'Kyurem', 'type': ['Dragon', 'Ice'], 'attack': 130},\n",
       " {'name': 'KyuremBlack Kyurem', 'type': ['Dragon', 'Ice'], 'attack': 170},\n",
       " {'name': 'KyuremWhite Kyurem', 'type': ['Dragon', 'Ice'], 'attack': 120}]"
      ]
     },
     "execution_count": 70,
     "metadata": {},
     "output_type": "execute_result"
    }
   ],
   "source": [
    "(Pokedex(poke_dict)\n",
    ".keep(lambda pokemon: pokemon['hp'] > 120 and pokemon['attack'] > 100,\n",
    "      lambda pokemon: 'Dragon' in pokemon['type'])\n",
    " .select('name','type','attack')\n",
    " .sort(lambda pokemon: pokemon['name'], reverse=False)\n",
    ".pokemons)"
   ]
  },
  {
   "cell_type": "code",
   "execution_count": null,
   "id": "62e3edf6-c7d0-4d69-9070-5ed2c91942e5",
   "metadata": {},
   "outputs": [],
   "source": []
  },
  {
   "cell_type": "code",
   "execution_count": 71,
   "id": "35ce5d55-78bd-405d-815c-71e7b7736abd",
   "metadata": {},
   "outputs": [],
   "source": [
    "# method chains: bliss\n",
    "# Method chains are a nice abstraction."
   ]
  },
  {
   "cell_type": "code",
   "execution_count": 72,
   "id": "4de8b6ff-912c-47f9-b506-b90a38b54267",
   "metadata": {},
   "outputs": [],
   "source": [
    "# This make the API easy to iterate on compared to using for loops"
   ]
  },
  {
   "cell_type": "code",
   "execution_count": 73,
   "id": "1944d215-31fe-40cc-ac17-ba0d3710a0f2",
   "metadata": {},
   "outputs": [
    {
     "data": {
      "text/plain": [
       "[{'name': 'GiratinaOrigin Forme', 'ratio': 0.8},\n",
       " {'name': 'Kyurem', 'ratio': 1.04},\n",
       " {'name': 'KyuremBlack Kyurem', 'ratio': 1.36},\n",
       " {'name': 'KyuremWhite Kyurem', 'ratio': 0.96}]"
      ]
     },
     "execution_count": 73,
     "metadata": {},
     "output_type": "execute_result"
    }
   ],
   "source": [
    "(Pokedex(poke_dict)\n",
    ".keep(lambda pokemon: pokemon['hp'] > 120 and pokemon['attack'] > 100,\n",
    "      lambda pokemon: 'Dragon' in pokemon['type'])\n",
    " .mutate(ratio=lambda pokemon: pokemon['attack']/pokemon['hp'])\n",
    " .select('name', 'ratio')\n",
    " .sort(lambda pokemon: pokemon['name'], reverse=False)\n",
    ".pokemons)"
   ]
  },
  {
   "cell_type": "code",
   "execution_count": null,
   "id": "46102f45-27d1-4006-9d0e-b9ac6124e36a",
   "metadata": {},
   "outputs": [],
   "source": [
    "# Doing the same thing using for loops is possible but will require\n",
    "# more complexity compared to using method chaining."
   ]
  }
 ],
 "metadata": {
  "kernelspec": {
   "display_name": "Python 3 (ipykernel)",
   "language": "python",
   "name": "python3"
  },
  "language_info": {
   "codemirror_mode": {
    "name": "ipython",
    "version": 3
   },
   "file_extension": ".py",
   "mimetype": "text/x-python",
   "name": "python",
   "nbconvert_exporter": "python",
   "pygments_lexer": "ipython3",
   "version": "3.12.2"
  }
 },
 "nbformat": 4,
 "nbformat_minor": 5
}
